{
 "cells": [
  {
   "cell_type": "code",
   "execution_count": 3,
   "id": "d2965c60-9e45-4bde-905a-ebfe0bdb15a4",
   "metadata": {},
   "outputs": [],
   "source": [
    "import cv2\n",
    "from cvzone.HandTrackingModule import HandDetector\n",
    "from time import sleep\n",
    "import numpy as np\n",
    "import cvzone\n",
    "from pynput.keyboard import Controller"
   ]
  },
  {
   "cell_type": "code",
   "execution_count": 4,
   "id": "60fd5f41-44be-4305-a1c3-dd297b538069",
   "metadata": {
    "tags": []
   },
   "outputs": [],
   "source": [
    "cap = cv2.VideoCapture(0)\n",
    "cap.set(3, 1280) \n",
    "cap.set(4, 720)\n",
    "detector = HandDetector(detectionCon=0.8,maxHands=2)\n",
    "resultText=\"\"\n",
    "keyboard=Controller()\n",
    "\n",
    "def drawAll(frame,buttonList):\n",
    "    img=np.zeros_like(frame,np.uint8)\n",
    "    for button in buttonList:\n",
    "        x,y=button.pos\n",
    "        w,h=button.size\n",
    "        cvzone.cornerRect(img,(x,y,w,h),l=30,t=5,rt=0,colorC=(255,255,255),colorR=(255,255,255))\n",
    "        #cv2.rectangle(frame,(x,y),(x+w,y+h),(0,0,125),cv2.FILLED)\n",
    "        cv2.putText(frame,button.text,(x+15,y+37),cv2.FONT_HERSHEY_PLAIN,2,(255,0,0),2)\n",
    "    \n",
    "    out=frame.copy()\n",
    "    alpha=0.2\n",
    "    mask=img.astype(bool)\n",
    "    out[mask]=cv2.addWeighted(frame,alpha,img,1-alpha,0)[mask]\n",
    "    return out\n",
    "\n",
    "class Button():\n",
    "    \n",
    "    def __init__(self,pos,text,size=[50,50]):\n",
    "        self.pos=pos\n",
    "        self.size=size\n",
    "        self.text=text\n",
    "    \n",
    "buttonList=[]\n",
    "keys=[[\"Q\",\"W\",\"E\",\"R\",\"T\",\"Y\",\"U\"],\n",
    "      [\"I\",\"O\",\"P\",\"A\",\"S\",\"D\",\"F\"],\n",
    "      [\"G\",\"H\",\"J\",\"K\",\"L\",\"Z\",\"X\"],\n",
    "      [\"C\",\"V\",\"B\",\"N\",\"M\",\",\",\".\"]]\n",
    "for i in range(len(keys)):\n",
    "        for j,key in enumerate(keys[i]):\n",
    "            buttonList.append(Button([60*j+100,70*i+10],key))\n",
    "\n",
    "while True:\n",
    "    ret,frame=cap.read()\n",
    "    position,frame=detector.findHands(frame)\n",
    "    frame=drawAll(frame,buttonList)\n",
    "    if position:\n",
    "        if len(position[0]['lmList']) >= 8:\n",
    "            index_position = tuple(position[0]['lmList'][7])\n",
    "            middle_position = tuple(position[0]['lmList'][11])\n",
    "            for button in buttonList:\n",
    "                x,y=button.pos\n",
    "                w,h=button.size\n",
    "                if x<index_position[0]<x+w and y<index_position[1]<y+h:\n",
    "                    cv2.rectangle(frame,button.pos,(x+w,y+h),(0,0,0),cv2.FILLED)\n",
    "                    cv2.putText(frame,button.text,(x+15,y+37),cv2.FONT_HERSHEY_PLAIN,2,(255,0,0),2)\n",
    "                    l, _, _ = detector.findDistance(index_position[:2],middle_position[:2],frame)\n",
    "                    if l<22:\n",
    "                        keyboard.press(button.text)\n",
    "                        cv2.rectangle(frame,button.pos,(x+w,y+h),(0,255,0),cv2.FILLED)\n",
    "                        cv2.putText(frame,button.text,(x+15,y+37),cv2.FONT_HERSHEY_PLAIN,2,(255,0,0),2)\n",
    "                        sleep(0.5)\n",
    "    \n",
    "    cv2.imshow(\"frame\",frame)\n",
    "    k=cv2.waitKey(1)\n",
    "    if k==27:\n",
    "        break\n",
    "\n",
    "cap.release()\n",
    "cv2.destroyAllWindows()"
   ]
  },
  {
   "cell_type": "code",
   "execution_count": null,
   "id": "95bc061b-d301-43c3-92a9-ee70d603e9a8",
   "metadata": {},
   "outputs": [],
   "source": []
  },
  {
   "cell_type": "code",
   "execution_count": null,
   "id": "52f9f14b-c8a4-4ae6-a09e-3a9c53c172a9",
   "metadata": {},
   "outputs": [],
   "source": []
  }
 ],
 "metadata": {
  "kernelspec": {
   "display_name": "Python 3 (ipykernel)",
   "language": "python",
   "name": "python3"
  },
  "language_info": {
   "codemirror_mode": {
    "name": "ipython",
    "version": 3
   },
   "file_extension": ".py",
   "mimetype": "text/x-python",
   "name": "python",
   "nbconvert_exporter": "python",
   "pygments_lexer": "ipython3",
   "version": "3.11.4"
  }
 },
 "nbformat": 4,
 "nbformat_minor": 5
}
